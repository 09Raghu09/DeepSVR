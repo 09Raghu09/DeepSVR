{
 "cells": [
  {
   "cell_type": "code",
   "execution_count": 46,
   "metadata": {
    "collapsed": true
   },
   "outputs": [],
   "source": [
    "#!/usr/bin/env python3\n",
    "import numpy as np\n",
    "import pandas as pd\n",
    "import matplotlib.pyplot as plt\n",
    "import seaborn as sns\n",
    "import collections"
   ]
  },
  {
   "cell_type": "code",
   "execution_count": 115,
   "metadata": {},
   "outputs": [],
   "source": [
    "MRR = pd.read_csv('../data/clinical_analysis_data/manual_rereview.txt', sep='\\t')"
   ]
  },
  {
   "cell_type": "code",
   "execution_count": 147,
   "metadata": {},
   "outputs": [],
   "source": [
    "consensus_table = {'S':[['S','S','S','S','S','S','S'],\n",
    "['S','S','S','S','S','S','A'],\n",
    "['S','S','S','S','S','A','A',],\n",
    "['S','S','S','S','S','S','F'],\n",
    "['S','S','S','S','S','A','F'],\n",
    "['S','S','S','S','S','F','F'],\n",
    "['S','S','S','S','A','A','F'],\n",
    "['S','S','S','S','A','F','F']],\n",
    "'No Consensus':[['S','S','S','S','A','A','A'],\n",
    "['S','S','S','S','F','F','F'],\n",
    "['F','F','F','F','A','A','A'],\n",
    "['F','F','F','F','S','S','S'],\n",
    "['A','A','A','A','F','F','F'],\n",
    "['A','A','A','A','S','S','S'],\n",
    "['A','S','S','S','F','F','F'],\n",
    "['A','A','F','F','F','S','S'],\n",
    "['S','S','S','A','A','A','F'],\n",
    "['S','S','F','F','A','A','A'],\n",
    "['F','F','F','A','A','A','S'],\n",
    "['S','S','S','F','F','A','A']],\n",
    "'F':[['F','F','F','F','F','F','F'],\n",
    "['F','F','F','F','F','F','A'],\n",
    "['F','F','F','F','F','F','S'],\n",
    "['F','F','F','F','F','A','S'],\n",
    "['F','F','F','F','F','S','S'],\n",
    "['F','F','F','F','A','A','S'],\n",
    "['F','F','F','F','A','S','S'],\n",
    "['F','F','F','F','F','A','A']],\n",
    "'A':[['A','A','A','A','A','A','A'],\n",
    "['A','A','A','A','A','A','F'],\n",
    "['A','A','A','A','A','A','S'],\n",
    "['A','A','A','A','A','F','S'],\n",
    "['A','A','A','A','A','S','S'],\n",
    "['A','A','A','A','F','F','S'],\n",
    "['A','A','A','A','F','S','S']]}"
   ]
  },
  {
   "cell_type": "code",
   "execution_count": 148,
   "metadata": {},
   "outputs": [],
   "source": [
    "for i,row in MRR.iterrows():\n",
    "    variant_calls = []\n",
    "    for item in row[8:15]:\n",
    "        variant_calls.append(item)\n",
    "    for k,thing in consensus_table.items():\n",
    "        for item in thing:\n",
    "            if sorted(variant_calls) == sorted(item):\n",
    "                MRR.loc[i, 'Consensus'] = k"
   ]
  },
  {
   "cell_type": "code",
   "execution_count": 154,
   "metadata": {},
   "outputs": [],
   "source": [
    "MR_count = 0\n",
    "classifier_count = 0\n",
    "new_consensus = 0\n",
    "no_consensus = 0\n",
    "\n",
    "for i,row in MRR.iterrows():\n",
    "    if row['Consensus'] == 'No Consensus':\n",
    "        no_consensus += 1\n",
    "    elif row['Consensus'] == row['Classifier_Call']:\n",
    "        classifier_count+=1\n",
    "    elif row['Consensus'] == row['MR_Call']:\n",
    "        MR_count+=1\n",
    "    else:\n",
    "        new_consensus += 1\n"
   ]
  },
  {
   "cell_type": "code",
   "execution_count": 155,
   "metadata": {},
   "outputs": [
    {
     "name": "stdout",
     "output_type": "stream",
     "text": [
      "Total Variants:  179\n",
      "MR-Variants:  53\n",
      "Classifier-Variants:  51\n",
      "Change-Variants:  34\n",
      "No Consensus:  41\n"
     ]
    }
   ],
   "source": [
    "# Print statements\n",
    "total = len(MRR_new)\n",
    "print('Total Variants: ',total)\n",
    "print('MR-Variants: ',MR_count)\n",
    "print('Classifier-Variants: ',classifier_count)\n",
    "print('Change-Variants: ',new_consensus)\n",
    "print('No Consensus: ',no_consensus)"
   ]
  },
  {
   "cell_type": "code",
   "execution_count": null,
   "metadata": {
    "collapsed": true
   },
   "outputs": [],
   "source": []
  }
 ],
 "metadata": {
  "kernelspec": {
   "display_name": "Python 3",
   "language": "python",
   "name": "python3"
  },
  "language_info": {
   "codemirror_mode": {
    "name": "ipython",
    "version": 3
   },
   "file_extension": ".py",
   "mimetype": "text/x-python",
   "name": "python",
   "nbconvert_exporter": "python",
   "pygments_lexer": "ipython3",
   "version": "3.6.3"
  }
 },
 "nbformat": 4,
 "nbformat_minor": 2
}
