{
 "cells": [
  {
   "cell_type": "markdown",
   "metadata": {},
   "source": [
    "# Deep learning model Cross-Tab Analysis\n",
    "This notebook contains the implementation and evaluation of various neural network models with differing paremeters."
   ]
  },
  {
   "cell_type": "code",
   "execution_count": 1,
   "metadata": {
    "ExecuteTime": {
     "end_time": "2018-09-20T02:18:03.913647Z",
     "start_time": "2018-09-20T02:18:01.764889Z"
    }
   },
   "outputs": [
    {
     "name": "stdout",
     "output_type": "stream",
     "text": [
      "Populating the interactive namespace from numpy and matplotlib\n"
     ]
    }
   ],
   "source": [
    "%pylab inline\n",
    "%load_ext autoreload\n",
    "%autoreload 2\n",
    "\n",
    "%aimport deepsvr"
   ]
  },
  {
   "cell_type": "code",
   "execution_count": 2,
   "metadata": {
    "ExecuteTime": {
     "end_time": "2018-09-20T02:18:03.974602Z",
     "start_time": "2018-09-20T02:18:03.920074Z"
    },
    "collapsed": true
   },
   "outputs": [],
   "source": [
    "%matplotlib inline"
   ]
  },
  {
   "cell_type": "code",
   "execution_count": 3,
   "metadata": {
    "ExecuteTime": {
     "end_time": "2018-09-20T02:18:14.913326Z",
     "start_time": "2018-09-20T02:18:03.980536Z"
    }
   },
   "outputs": [
    {
     "name": "stderr",
     "output_type": "stream",
     "text": [
      "Using TensorFlow backend.\n"
     ]
    }
   ],
   "source": [
    "import numpy as np\n",
    "import pandas as pd\n",
    "import os\n",
    "from keras.models import Sequential\n",
    "from keras.layers import Dense, Dropout\n",
    "from keras.wrappers.scikit_learn import KerasClassifier\n",
    "from keras.regularizers import l2\n",
    "from sklearn.model_selection import KFold\n",
    "from sklearn.model_selection import cross_val_predict\n",
    "from sklearn import preprocessing\n",
    "from sklearn import metrics\n",
    "from sklearn.model_selection import train_test_split\n",
    "\n",
    "import matplotlib.pyplot as plt\n",
    "import seaborn as sns\n",
    "from itertools import cycle\n",
    "\n",
    "from analysis_utils.ClassifierPlots import create_reliability_diagram, create_roc_curve, create_feature_importance_plot, make_model_output_plot\n",
    "from analysis_utils.Analysis import determine_feature_importance, print_accuracy_and_classification_report, predict_classes, get_somatic_error_type, calculate_kappa\n",
    "\n",
    "sns.set_style(\"white\")\n",
    "sns.set_context('talk')"
   ]
  },
  {
   "cell_type": "code",
   "execution_count": 4,
   "metadata": {
    "collapsed": true
   },
   "outputs": [],
   "source": [
    "# Pull in training data\n",
    "training_data = pd.read_pickle('../data/training_data_preprocessed.pkl')"
   ]
  },
  {
   "cell_type": "code",
   "execution_count": 5,
   "metadata": {
    "collapsed": true
   },
   "outputs": [],
   "source": [
    "# Remove AML31 case\n",
    "aml31_training = training_data[training_data.index.str.contains('fSsMNn1DZ3AIDGk=')]\n",
    "training_data = training_data[~training_data.index.str.contains('fSsMNn1DZ3AIDGk=')]"
   ]
  },
  {
   "cell_type": "code",
   "execution_count": 6,
   "metadata": {},
   "outputs": [
    {
     "data": {
      "text/plain": [
       "call\n",
       "a    10643\n",
       "f     8854\n",
       "g     3122\n",
       "s    18381\n",
       "dtype: int64"
      ]
     },
     "execution_count": 6,
     "metadata": {},
     "output_type": "execute_result"
    }
   ],
   "source": [
    "# Show the calls associate with training data\n",
    "training_data.groupby('call').size()"
   ]
  },
  {
   "cell_type": "code",
   "execution_count": 7,
   "metadata": {
    "collapsed": true
   },
   "outputs": [],
   "source": [
    "# Fix random seed for reproducibility\n",
    "seed = 7\n",
    "np.random.seed(seed)"
   ]
  },
  {
   "cell_type": "code",
   "execution_count": 8,
   "metadata": {
    "collapsed": true
   },
   "outputs": [],
   "source": [
    "# Set parameters for cross-validation fold splits\n",
    "kfold = KFold(n_splits=10, shuffle=True, random_state=seed)"
   ]
  },
  {
   "cell_type": "code",
   "execution_count": 9,
   "metadata": {
    "collapsed": true
   },
   "outputs": [],
   "source": [
    "# Re-label the germline calls as failed calls\n",
    "three_class = training_data.replace('g','f')\n",
    "three_class.sort_index(axis=1, inplace=True)"
   ]
  },
  {
   "cell_type": "code",
   "execution_count": 10,
   "metadata": {},
   "outputs": [
    {
     "data": {
      "text/plain": [
       "call\n",
       "a    10643\n",
       "f    11976\n",
       "s    18381\n",
       "dtype: int64"
      ]
     },
     "execution_count": 10,
     "metadata": {},
     "output_type": "execute_result"
    }
   ],
   "source": [
    "# Show the calls associate with training data\n",
    "three_class.groupby('call').size()"
   ]
  },
  {
   "cell_type": "code",
   "execution_count": 114,
   "metadata": {
    "collapsed": true
   },
   "outputs": [],
   "source": [
    "# Get labels for training data\n",
    "Y = pd.get_dummies(three_class.call)\n",
    "Y = Y[['a', 'f', 's']].astype(float).values\n",
    "\n",
    "# Get training data as numpy array\n",
    "X = training_data.drop(['call'], axis=1).astype(float).values"
   ]
  },
  {
   "cell_type": "code",
   "execution_count": 115,
   "metadata": {
    "collapsed": true
   },
   "outputs": [],
   "source": [
    "# Split the data for cross-validation\n",
    "X_train, X_test, Y_train, Y_test = train_test_split(\n",
    "    X, Y, test_size=0.33, random_state=seed)"
   ]
  },
  {
   "cell_type": "code",
   "execution_count": 116,
   "metadata": {},
   "outputs": [
    {
     "data": {
      "text/plain": [
       "(27470, 71)"
      ]
     },
     "execution_count": 116,
     "metadata": {},
     "output_type": "execute_result"
    }
   ],
   "source": [
    "# Determine shape of training data features for cross-validation\n",
    "X_train.shape"
   ]
  },
  {
   "cell_type": "code",
   "execution_count": 117,
   "metadata": {},
   "outputs": [
    {
     "data": {
      "text/plain": [
       "(27470, 3)"
      ]
     },
     "execution_count": 117,
     "metadata": {},
     "output_type": "execute_result"
    }
   ],
   "source": [
    "# Determine shape of training data calls for cross-validation\n",
    "Y_train.shape"
   ]
  },
  {
   "cell_type": "code",
   "execution_count": 15,
   "metadata": {
    "collapsed": true
   },
   "outputs": [],
   "source": [
    "# Define baseline model\n",
    "def three_class_model():\n",
    "    # create model\n",
    "    model = Sequential()\n",
    "    model.add(Dense(71, input_dim=71, kernel_initializer='normal', activation='tanh', kernel_regularizer=l2(0.001)))\n",
    "    model.add(Dense(20, activation='tanh', kernel_regularizer=l2(0.001)))\n",
    "    model.add(Dense(20, activation='tanh', kernel_regularizer=l2(0.001)))\n",
    "    model.add(Dense(20, activation='tanh', kernel_regularizer=l2(0.001)))\n",
    "    model.add(Dense(20, activation='tanh', kernel_regularizer=l2(0.001)))\n",
    "    model.add(Dense(3, kernel_initializer='normal', activation='softmax'))\n",
    "    # Compile model\n",
    "    model.compile(loss='categorical_crossentropy', optimizer='adam', metrics=['accuracy'])\n",
    "    return model"
   ]
  },
  {
   "cell_type": "code",
   "execution_count": 16,
   "metadata": {
    "collapsed": true
   },
   "outputs": [],
   "source": [
    "# Set deep learning model parameters\n",
    "estimator = KerasClassifier(build_fn=three_class_model, epochs=700, batch_size=2000, verbose=0)"
   ]
  },
  {
   "cell_type": "code",
   "execution_count": 118,
   "metadata": {},
   "outputs": [
    {
     "data": {
      "text/plain": [
       "<keras.callbacks.History at 0x1a27d87940>"
      ]
     },
     "execution_count": 118,
     "metadata": {},
     "output_type": "execute_result"
    }
   ],
   "source": [
    "estimator.fit(X_train, Y_train)"
   ]
  },
  {
   "cell_type": "markdown",
   "metadata": {},
   "source": [
    "# Perform Cross Tab Analysis"
   ]
  },
  {
   "cell_type": "code",
   "execution_count": 320,
   "metadata": {
    "collapsed": true
   },
   "outputs": [],
   "source": [
    "def cross_tab(estimator, filter_feature, metric, dataframe):\n",
    "    if metric == 1:\n",
    "        metric = metric\n",
    "        dataframe_new = dataframe[dataframe[filter_feature] == metric]\n",
    "    elif len(metric) > 1:\n",
    "        lower = metric[0]\n",
    "        upper = metric[1]\n",
    "        dataframe_new = dataframe[(dataframe[filter_feature] >= lower) & (dataframe[filter_feature] <= upper)]\n",
    "    \n",
    "    s = len(dataframe_new[dataframe_new['somatic'] == 1])\n",
    "    f = len(dataframe_new[dataframe_new['fail'] == 1])\n",
    "    a = len(dataframe_new[dataframe_new['ambiguous'] == 1])\n",
    "\n",
    "    Y = dataframe_new.as_matrix(columns=['ambiguous', 'fail', 'somatic'])\n",
    "    # Y = Y[['a', 'f', 's']].astype(float).values\n",
    "\n",
    "    # Get training data as numpy array\n",
    "    X = dataframe_new.drop(['somatic', 'fail', 'ambiguous'], axis=1).astype(float).values                               \n",
    "\n",
    "    probs = estimator.predict_proba(X)\n",
    "\n",
    "    probs = pd.DataFrame(probs, columns=['amb', 'fail', 'somatic'])\n",
    "    Y = pd.DataFrame(Y, columns=['amb', 'fail', 'somatic'])\n",
    "    class_lookup = {0: 'Ambiguous', 1: 'Fail', 2: 'Somatic'}\n",
    "    roc_auc, fpr, tpr = roc_curve(Y, probs, class_lookup)\n",
    "\n",
    "    return s, a, f, roc_auc\n",
    "                                      \n",
    "\n",
    "def roc_curve(Y, probabilities, class_lookup):\n",
    "    '''Create ROC curve to compare multiclass model performance.\n",
    "\n",
    "    Parameters:\n",
    "        Y (numpy.array): Truth labels\n",
    "        probabilities (numpy.array): Output of model for each class\n",
    "        class_lookup (dict): lookup hash of truth labels\n",
    "        title (str): Plot title\n",
    "    '''\n",
    "    fpr, tpr, _ = metrics.roc_curve(Y['somatic'], probabilities['somatic'])\n",
    "    roc_auc = metrics.auc(fpr, tpr)\n",
    "\n",
    "    return roc_auc, fpr, tpr                                 "
   ]
  },
  {
   "cell_type": "code",
   "execution_count": 321,
   "metadata": {
    "collapsed": true
   },
   "outputs": [],
   "source": [
    "columns_list = []\n",
    "for item in list(training_data.columns.values):\n",
    "    columns_list.append(item)\n",
    "columns_list.append('ambiguous')\n",
    "columns_list.append('fail')\n",
    "columns_list.append('somatic')\n",
    "columns_list.remove('call')"
   ]
  },
  {
   "cell_type": "code",
   "execution_count": 322,
   "metadata": {
    "collapsed": true
   },
   "outputs": [],
   "source": [
    "merged_dataframe = pd.DataFrame(numpy.hstack((X_test, Y_test)), columns= columns_list)"
   ]
  },
  {
   "cell_type": "code",
   "execution_count": 325,
   "metadata": {
    "collapsed": true
   },
   "outputs": [],
   "source": [
    "features_for_analysis = {'disease_AML':1,'disease_GST':1,'disease_MPNST':1,\n",
    "                         'disease_SCLC':1,'disease_breast':1,'disease_colorectal':1,\n",
    "                         'disease_glioblastoma':1,'disease_lymphoma':1,'disease_melanoma':1,\n",
    "                         'reviewer_1':1,'reviewer_2':1,'reviewer_3':1,'reviewer_4':1,\n",
    "                         'normal_depth':[0, 0.01],\n",
    "                         'tumor_depth':[0, 0.01]}"
   ]
  },
  {
   "cell_type": "code",
   "execution_count": 326,
   "metadata": {
    "collapsed": true
   },
   "outputs": [],
   "source": [
    "final = []\n",
    "for k,v in features_for_analysis.items():\n",
    "    filter_feature = k\n",
    "    metric = v\n",
    "    s, a, f, roc_auc = cross_tab(estimator, filter_feature, metric, merged_dataframe)\n",
    "    final.append([k, v, s, a, f, roc_auc])"
   ]
  },
  {
   "cell_type": "code",
   "execution_count": 327,
   "metadata": {},
   "outputs": [
    {
     "data": {
      "text/html": [
       "<div>\n",
       "<style>\n",
       "    .dataframe thead tr:only-child th {\n",
       "        text-align: right;\n",
       "    }\n",
       "\n",
       "    .dataframe thead th {\n",
       "        text-align: left;\n",
       "    }\n",
       "\n",
       "    .dataframe tbody tr th {\n",
       "        vertical-align: top;\n",
       "    }\n",
       "</style>\n",
       "<table border=\"1\" class=\"dataframe\">\n",
       "  <thead>\n",
       "    <tr style=\"text-align: right;\">\n",
       "      <th></th>\n",
       "      <th>filter</th>\n",
       "      <th>value</th>\n",
       "      <th>somatic</th>\n",
       "      <th>ambiguous</th>\n",
       "      <th>fail</th>\n",
       "      <th>roc_auc</th>\n",
       "    </tr>\n",
       "  </thead>\n",
       "  <tbody>\n",
       "    <tr>\n",
       "      <th>0</th>\n",
       "      <td>disease_AML</td>\n",
       "      <td>1</td>\n",
       "      <td>872</td>\n",
       "      <td>581</td>\n",
       "      <td>1424</td>\n",
       "      <td>0.970537</td>\n",
       "    </tr>\n",
       "    <tr>\n",
       "      <th>1</th>\n",
       "      <td>disease_GST</td>\n",
       "      <td>1</td>\n",
       "      <td>14</td>\n",
       "      <td>13</td>\n",
       "      <td>4</td>\n",
       "      <td>0.978992</td>\n",
       "    </tr>\n",
       "    <tr>\n",
       "      <th>2</th>\n",
       "      <td>disease_MPNST</td>\n",
       "      <td>1</td>\n",
       "      <td>6</td>\n",
       "      <td>12</td>\n",
       "      <td>124</td>\n",
       "      <td>0.992647</td>\n",
       "    </tr>\n",
       "    <tr>\n",
       "      <th>3</th>\n",
       "      <td>disease_SCLC</td>\n",
       "      <td>1</td>\n",
       "      <td>2465</td>\n",
       "      <td>1463</td>\n",
       "      <td>673</td>\n",
       "      <td>0.961696</td>\n",
       "    </tr>\n",
       "    <tr>\n",
       "      <th>4</th>\n",
       "      <td>disease_breast</td>\n",
       "      <td>1</td>\n",
       "      <td>2319</td>\n",
       "      <td>600</td>\n",
       "      <td>1401</td>\n",
       "      <td>0.956193</td>\n",
       "    </tr>\n",
       "    <tr>\n",
       "      <th>5</th>\n",
       "      <td>disease_colorectal</td>\n",
       "      <td>1</td>\n",
       "      <td>12</td>\n",
       "      <td>283</td>\n",
       "      <td>124</td>\n",
       "      <td>0.756962</td>\n",
       "    </tr>\n",
       "    <tr>\n",
       "      <th>6</th>\n",
       "      <td>disease_glioblastoma</td>\n",
       "      <td>1</td>\n",
       "      <td>150</td>\n",
       "      <td>205</td>\n",
       "      <td>57</td>\n",
       "      <td>0.908448</td>\n",
       "    </tr>\n",
       "    <tr>\n",
       "      <th>7</th>\n",
       "      <td>disease_lymphoma</td>\n",
       "      <td>1</td>\n",
       "      <td>242</td>\n",
       "      <td>238</td>\n",
       "      <td>148</td>\n",
       "      <td>0.964309</td>\n",
       "    </tr>\n",
       "    <tr>\n",
       "      <th>8</th>\n",
       "      <td>disease_melanoma</td>\n",
       "      <td>1</td>\n",
       "      <td>35</td>\n",
       "      <td>59</td>\n",
       "      <td>6</td>\n",
       "      <td>0.894505</td>\n",
       "    </tr>\n",
       "    <tr>\n",
       "      <th>9</th>\n",
       "      <td>reviewer_1</td>\n",
       "      <td>1</td>\n",
       "      <td>1282</td>\n",
       "      <td>871</td>\n",
       "      <td>1347</td>\n",
       "      <td>0.967902</td>\n",
       "    </tr>\n",
       "    <tr>\n",
       "      <th>10</th>\n",
       "      <td>reviewer_2</td>\n",
       "      <td>1</td>\n",
       "      <td>4757</td>\n",
       "      <td>2511</td>\n",
       "      <td>2601</td>\n",
       "      <td>0.964586</td>\n",
       "    </tr>\n",
       "    <tr>\n",
       "      <th>11</th>\n",
       "      <td>reviewer_3</td>\n",
       "      <td>1</td>\n",
       "      <td>62</td>\n",
       "      <td>59</td>\n",
       "      <td>9</td>\n",
       "      <td>0.925522</td>\n",
       "    </tr>\n",
       "    <tr>\n",
       "      <th>12</th>\n",
       "      <td>reviewer_4</td>\n",
       "      <td>1</td>\n",
       "      <td>14</td>\n",
       "      <td>13</td>\n",
       "      <td>4</td>\n",
       "      <td>0.978992</td>\n",
       "    </tr>\n",
       "    <tr>\n",
       "      <th>13</th>\n",
       "      <td>normal_depth</td>\n",
       "      <td>[0, 0.01]</td>\n",
       "      <td>3101</td>\n",
       "      <td>1179</td>\n",
       "      <td>2360</td>\n",
       "      <td>0.960464</td>\n",
       "    </tr>\n",
       "    <tr>\n",
       "      <th>14</th>\n",
       "      <td>tumor_depth</td>\n",
       "      <td>[0, 0.01]</td>\n",
       "      <td>6042</td>\n",
       "      <td>3392</td>\n",
       "      <td>3885</td>\n",
       "      <td>0.965787</td>\n",
       "    </tr>\n",
       "  </tbody>\n",
       "</table>\n",
       "</div>"
      ],
      "text/plain": [
       "                  filter      value  somatic  ambiguous  fail   roc_auc\n",
       "0            disease_AML          1      872        581  1424  0.970537\n",
       "1            disease_GST          1       14         13     4  0.978992\n",
       "2          disease_MPNST          1        6         12   124  0.992647\n",
       "3           disease_SCLC          1     2465       1463   673  0.961696\n",
       "4         disease_breast          1     2319        600  1401  0.956193\n",
       "5     disease_colorectal          1       12        283   124  0.756962\n",
       "6   disease_glioblastoma          1      150        205    57  0.908448\n",
       "7       disease_lymphoma          1      242        238   148  0.964309\n",
       "8       disease_melanoma          1       35         59     6  0.894505\n",
       "9             reviewer_1          1     1282        871  1347  0.967902\n",
       "10            reviewer_2          1     4757       2511  2601  0.964586\n",
       "11            reviewer_3          1       62         59     9  0.925522\n",
       "12            reviewer_4          1       14         13     4  0.978992\n",
       "13          normal_depth  [0, 0.01]     3101       1179  2360  0.960464\n",
       "14           tumor_depth  [0, 0.01]     6042       3392  3885  0.965787"
      ]
     },
     "execution_count": 327,
     "metadata": {},
     "output_type": "execute_result"
    }
   ],
   "source": [
    "pd.DataFrame(final, columns=['filter', 'value', 'somatic', 'ambiguous', 'fail', 'roc_auc'])"
   ]
  },
  {
   "cell_type": "code",
   "execution_count": null,
   "metadata": {
    "collapsed": true
   },
   "outputs": [],
   "source": []
  }
 ],
 "metadata": {
  "kernelspec": {
   "display_name": "Python 3",
   "language": "python",
   "name": "python3"
  },
  "language_info": {
   "codemirror_mode": {
    "name": "ipython",
    "version": 3
   },
   "file_extension": ".py",
   "mimetype": "text/x-python",
   "name": "python",
   "nbconvert_exporter": "python",
   "pygments_lexer": "ipython3",
   "version": "3.6.1"
  }
 },
 "nbformat": 4,
 "nbformat_minor": 2
}
